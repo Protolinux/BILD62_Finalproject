{
 "cells": [
  {
   "cell_type": "code",
   "execution_count": 1,
   "id": "20a6bbf1",
   "metadata": {},
   "outputs": [],
   "source": [
    "# All the imported packages\n",
    "import matplotlib.pyplot as plt\n",
    "import pandas as pd\n",
    "import numpy as np\n",
    "import scipy as sp\n",
    "%config InlineBackend.figure_format = 'retina' # Improve the resolution of our plots!\n",
    "%matplotlib inline"
   ]
  },
  {
   "cell_type": "code",
   "execution_count": 2,
   "id": "5fbb034a",
   "metadata": {},
   "outputs": [
    {
     "name": "stdout",
     "output_type": "stream",
     "text": [
      "0      13867\n",
      "1      11388\n",
      "2      10360\n",
      "3       9030\n",
      "4       8429\n",
      "       ...  \n",
      "527    10167\n",
      "528     9708\n",
      "529     8804\n",
      "530     5924\n",
      "531     4885\n",
      "Name: unvaccinated_cases, Length: 532, dtype: int64\n",
      "0        24\n",
      "1        18\n",
      "2        27\n",
      "3        18\n",
      "4        15\n",
      "       ... \n",
      "527    2468\n",
      "528    2260\n",
      "529    2243\n",
      "530    1498\n",
      "531    1311\n",
      "Name: vaccinated_cases, Length: 532, dtype: int64\n"
     ]
    }
   ],
   "source": [
    "# This section is meant to get the data and extract it out for processing \n",
    "covid_data=pd.read_csv('https://data.chhs.ca.gov/dataset/e39edc8e-9db1-40a7-9e87-89169401c3f5/resource/de27ce58-edc8-45fb-bebc-08c4b29c5efe/download/covid19postvaxstatewidestats_07172022.csv%27')\n",
    "unvac = covid_data['unvaccinated_cases']\n",
    "vac = covid_data['vaccinated_cases']\n",
    "print(unvac)\n",
    "print(vac)"
   ]
  },
  {
   "cell_type": "code",
   "execution_count": 3,
   "id": "fd54e3ac",
   "metadata": {},
   "outputs": [],
   "source": [
    "def onePlot(x,labelx,labely,labelT):\n",
    "    plt.plot(x)\n",
    "    plt.xlabel(labelx)\n",
    "    plt.ylabel(labely)\n",
    "    plt.title(labelT)\n",
    "    plt.show()\n",
    "    "
   ]
  },
  {
   "cell_type": "code",
   "execution_count": 4,
   "id": "62562352",
   "metadata": {},
   "outputs": [],
   "source": [
    "def twoPlots(x,y,labelx,labely,labelT,labelfirst,labelsecond): '''This is for plotting 2 datas'''\n",
    "    plt.plot(x)\n",
    "    plt.plot(y)\n",
    "    plt.xlabel(labelx)\n",
    "    plt.ylabel(labely)\n",
    "    plt.title(labelT)\n",
    "    plt.legend([labelfirst,labelsecond])\n",
    "    plt.show()"
   ]
  },
  {
   "cell_type": "code",
   "execution_count": null,
   "id": "41aaf1ee",
   "metadata": {},
   "outputs": [],
   "source": [
    "def calculateData(x):\n",
    "    data_mean = np.mean(x)\n",
    "    return data_mean"
   ]
  },
  {
   "cell_type": "code",
   "execution_count": null,
   "id": "74a335bf",
   "metadata": {},
   "outputs": [],
   "source": [
    "# This section is for laabeling\n",
    "laX = 'Number of days'\n",
    "laY = 'Number of cases'\n",
    "laT1 = 'Unvaccinated cases'\n",
    "laT2 = 'Vaccinated cases'\n",
    "laFi = 'Unvaccinated'\n",
    "laSe = 'Vaccinated'\n",
    "\n"
   ]
  },
  {
   "cell_type": "code",
   "execution_count": null,
   "id": "525ae31f",
   "metadata": {},
   "outputs": [],
   "source": [
    "onePlot(x,labelx,labely,labelT)\n",
    "twoPlots(x,y,labelx,labely,labelT,labelfirst,labelsecond)\n",
    "plotters_2(unvac, vac)\n",
    "\n",
    "\n",
    "unvacMean = calculateData(unvac)\n",
    "vacMean = calculateData(vac)\n",
    "print(vacMean)\n",
    "plotter_1(unvacMean)\n",
    "plotter_1(vacMean)\n",
    "plotters_2(unvacMean, vacMean)\n",
    "\n",
    "plt.show()"
   ]
  },
  {
   "cell_type": "code",
   "execution_count": null,
   "id": "6e654678",
   "metadata": {},
   "outputs": [],
   "source": []
  }
 ],
 "metadata": {
  "kernelspec": {
   "display_name": "Python 3 (ipykernel)",
   "language": "python",
   "name": "python3"
  },
  "language_info": {
   "codemirror_mode": {
    "name": "ipython",
    "version": 3
   },
   "file_extension": ".py",
   "mimetype": "text/x-python",
   "name": "python",
   "nbconvert_exporter": "python",
   "pygments_lexer": "ipython3",
   "version": "3.9.5"
  }
 },
 "nbformat": 4,
 "nbformat_minor": 5
}
