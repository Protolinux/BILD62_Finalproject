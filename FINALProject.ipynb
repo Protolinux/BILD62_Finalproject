{
 "cells": [
  {
   "cell_type": "code",
   "execution_count": 5,
   "id": "20a6bbf1",
   "metadata": {},
   "outputs": [],
   "source": [
    "# your code here\n",
    "import matplotlib.pyplot as plt\n",
    "import pandas as pd\n",
    "import numpy as np\n"
   ]
  },
  {
   "cell_type": "code",
   "execution_count": 29,
   "id": "5fbb034a",
   "metadata": {},
   "outputs": [
    {
     "name": "stdout",
     "output_type": "stream",
     "text": [
      "unvaccinated_cases and vaccinated_cases\n",
      "0      13867\n",
      "1      11388\n",
      "2      10360\n",
      "3       9030\n",
      "4       8429\n",
      "       ...  \n",
      "527    10167\n",
      "528     9708\n",
      "529     8804\n",
      "530     5924\n",
      "531     4885\n",
      "Name: unvaccinated_cases, Length: 532, dtype: int64\n",
      "0        24\n",
      "1        18\n",
      "2        27\n",
      "3        18\n",
      "4        15\n",
      "       ... \n",
      "527    2468\n",
      "528    2260\n",
      "529    2243\n",
      "530    1498\n",
      "531    1311\n",
      "Name: vaccinated_cases, Length: 532, dtype: int64\n"
     ]
    }
   ],
   "source": [
    "import pandas as pd\n",
    "covid_data=pd.read_csv('https://data.chhs.ca.gov/dataset/e39edc8e-9db1-40a7-9e87-89169401c3f5/resource/de27ce58-edc8-45fb-bebc-08c4b29c5efe/download/covid19postvaxstatewidestats_07172022.csv%27')\n",
    "covid_data.head(25)\n",
    "print('unvaccinated_cases and vaccinated_cases')\n",
    "print(covid_data['unvaccinated_cases'])\n",
    "print(covid_data['vaccinated_cases'])\n",
    "\n"
   ]
  },
  {
   "cell_type": "code",
   "execution_count": null,
   "id": "525ae31f",
   "metadata": {},
   "outputs": [],
   "source": []
  }
 ],
 "metadata": {
  "kernelspec": {
   "display_name": "Python 3 (ipykernel)",
   "language": "python",
   "name": "python3"
  },
  "language_info": {
   "codemirror_mode": {
    "name": "ipython",
    "version": 3
   },
   "file_extension": ".py",
   "mimetype": "text/x-python",
   "name": "python",
   "nbconvert_exporter": "python",
   "pygments_lexer": "ipython3",
   "version": "3.9.5"
  }
 },
 "nbformat": 4,
 "nbformat_minor": 5
}
